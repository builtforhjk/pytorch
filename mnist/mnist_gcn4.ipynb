{
 "cells": [
  {
   "cell_type": "code",
   "execution_count": 1,
   "metadata": {},
   "outputs": [],
   "source": [
    "import torch\n",
    "import torch.nn as nn\n",
    "import torch.nn.functional as F\n",
    "import torch.optim as optim\n",
    "\n",
    "import matplotlib.pyplot as plt\n",
    "import numpy as np\n",
    "\n",
    "from FileReader import load_mnist\n",
    "from __future__ import print_function"
   ]
  },
  {
   "cell_type": "code",
   "execution_count": 2,
   "metadata": {},
   "outputs": [],
   "source": [
    "device = ('cuda' if torch.cuda.is_available() else 'cpu')"
   ]
  },
  {
   "cell_type": "code",
   "execution_count": 3,
   "metadata": {},
   "outputs": [],
   "source": [
    "train_set = load_mnist('train')"
   ]
  },
  {
   "cell_type": "code",
   "execution_count": 4,
   "metadata": {},
   "outputs": [],
   "source": [
    "train_img_set = torch.tensor(train_set['images']).to(device, torch.float)\n",
    "train_label_set = torch.tensor(train_set['labels']).to(device, torch.long)"
   ]
  },
  {
   "cell_type": "code",
   "execution_count": 5,
   "metadata": {},
   "outputs": [],
   "source": [
    "train_img_set = torch.unsqueeze(train_img_set, dim=1)"
   ]
  },
  {
   "cell_type": "code",
   "execution_count": 6,
   "metadata": {},
   "outputs": [],
   "source": [
    "def degree_matrix(shape):\n",
    "    \n",
    "    deg_matrix = torch.zeros(*shape)\n",
    "    deg_matrix[0,0] = -2\n",
    "    deg_matrix[0,-1] = -2\n",
    "    deg_matrix[-1,0] = -2\n",
    "    deg_matrix[-1,-1] = -2\n",
    "    deg_matrix += 5\n",
    "    deg_matrix[1:-1,1:-1] += 3\n",
    "    deg_matrix = deg_matrix.view(-1)\n",
    "    return torch.diag(deg_matrix).to(device, torch.float)\n",
    "deg_matrix = degree_matrix((28,28))"
   ]
  },
  {
   "cell_type": "code",
   "execution_count": 7,
   "metadata": {},
   "outputs": [],
   "source": [
    "def adjacent_matrix(shape):\n",
    "    \n",
    "    height, width = shape\n",
    "    adj_matrix = torch.zeros(height*width, height*width)\n",
    "    for row in range(height):\n",
    "        for col in range(width):\n",
    "            if col+1 < width:\n",
    "                adj_matrix[row*width+col, row*width+col+1] = 1\n",
    "                adj_matrix[row*width+col+1, row*width+col] = 1\n",
    "                if row+1 < height:\n",
    "                    adj_matrix[row*width+col, (row+1)*width+col+1] = 1\n",
    "                    adj_matrix[(row+1)*width+col+1, row*width+col] = 1\n",
    "            if row+1 < height:\n",
    "                adj_matrix[row*width+col, (row+1)*width+col] = 1\n",
    "                adj_matrix[(row+1)*width+col, row*width+col] = 1\n",
    "                if col-1 >= 0:\n",
    "                    adj_matrix[row*width+col, (row+1)*width+col-1] = 1\n",
    "                    adj_matrix[(row+1)*width+col-1, row*width+col] = 1\n",
    "    return adj_matrix.to(device, torch.float)\n",
    "adj_matrix = adjacent_matrix((28,28))"
   ]
  },
  {
   "cell_type": "code",
   "execution_count": 8,
   "metadata": {},
   "outputs": [],
   "source": [
    "laplacian_matrix = deg_matrix - adj_matrix"
   ]
  },
  {
   "cell_type": "code",
   "execution_count": 9,
   "metadata": {},
   "outputs": [],
   "source": [
    "eigenvalue,eigenvector = torch.symeig(laplacian_matrix, eigenvectors=True)"
   ]
  },
  {
   "cell_type": "code",
   "execution_count": 10,
   "metadata": {},
   "outputs": [],
   "source": [
    "train_img_set = train_img_set.view(60000, -1)"
   ]
  },
  {
   "cell_type": "code",
   "execution_count": 11,
   "metadata": {},
   "outputs": [],
   "source": [
    "class ConvGraph(nn.Module):\n",
    "    \n",
    "    def __init__(self, transform_matrix, vertex):\n",
    "        super(ConvGraph, self).__init__()\n",
    "        self.v_matrix = transform_matrix.detach()\n",
    "        self.kernel_1 = nn.Parameter(torch.randn(vertex).to(device,torch.float))\n",
    "        self.kernel_2 = nn.Parameter(torch.randn(vertex).to(device,torch.float))\n",
    "        self.kernel_3 = nn.Parameter(torch.randn(vertex).to(device,torch.float))\n",
    "        self.kernel_4 = nn.Parameter(torch.randn(vertex).to(device,torch.float))\n",
    "    \n",
    "    def forward(self, input):\n",
    "        \n",
    "        tensor = input.t()\n",
    "        output_1 = F.relu(self.v_matrix.mm(torch.diag(self.kernel_1)).mm(self.v_matrix.t()).mm(tensor))\n",
    "        output_2 = F.relu(self.v_matrix.mm(torch.diag(self.kernel_2)).mm(self.v_matrix.t()).mm(output_1))\n",
    "        output_3 = F.relu(self.v_matrix.mm(torch.diag(self.kernel_3)).mm(self.v_matrix.t()).mm(output_2))\n",
    "        output_4 = F.relu(self.v_matrix.mm(torch.diag(self.kernel_4)).mm(self.v_matrix.t()).mm(output_3))\n",
    "        result = output_4.t()\n",
    "        return result\n",
    "        "
   ]
  },
  {
   "cell_type": "code",
   "execution_count": 12,
   "metadata": {},
   "outputs": [],
   "source": [
    "class GCN(nn.Module):\n",
    "    \n",
    "    def __init__(self, transform_matrix, vertex):\n",
    "        super(GCN, self).__init__()\n",
    "        self.conv = ConvGraph(transform_matrix, vertex)\n",
    "        self.fc_1 = nn.Linear(in_features=784, out_features=100)\n",
    "        self.relu = nn.ReLU()\n",
    "        self.fc_2 = nn.Linear(in_features=100, out_features=10)\n",
    "    \n",
    "    def forward(self, input):\n",
    "        \n",
    "        output_1 = self.conv(input)\n",
    "        output_2 = self.fc_1(output_1)\n",
    "        output_3 = self.relu(output_2)\n",
    "        result = self.fc_2(output_3)\n",
    "        return result"
   ]
  },
  {
   "cell_type": "code",
   "execution_count": 13,
   "metadata": {},
   "outputs": [],
   "source": [
    "model = GCN(eigenvector, 784)"
   ]
  },
  {
   "cell_type": "code",
   "execution_count": 14,
   "metadata": {},
   "outputs": [
    {
     "name": "stdout",
     "output_type": "stream",
     "text": [
      "GCN(\n",
      "  (conv): ConvGraph()\n",
      "  (fc_1): Linear(in_features=784, out_features=100, bias=True)\n",
      "  (relu): ReLU()\n",
      "  (fc_2): Linear(in_features=100, out_features=10, bias=True)\n",
      ")\n"
     ]
    }
   ],
   "source": [
    "print(model)"
   ]
  },
  {
   "cell_type": "code",
   "execution_count": null,
   "metadata": {},
   "outputs": [],
   "source": [
    "loss_stat = []"
   ]
  },
  {
   "cell_type": "code",
   "execution_count": 22,
   "metadata": {},
   "outputs": [],
   "source": [
    "loss_function = nn.CrossEntropyLoss()\n",
    "optimizer = optim.SGD(model.parameters(), lr=0.005, momentum=0.9)"
   ]
  },
  {
   "cell_type": "code",
   "execution_count": 65,
   "metadata": {},
   "outputs": [
    {
     "name": "stdout",
     "output_type": "stream",
     "text": [
      "step: 10 | loss: 0.0112116094679\n",
      "step: 20 | loss: 0.0110585978255\n",
      "step: 30 | loss: 0.010909024626\n",
      "step: 40 | loss: 0.0107615785673\n",
      "step: 50 | loss: 0.0106172105297\n",
      "step: 60 | loss: 0.0104758543894\n",
      "step: 70 | loss: 0.0103369262069\n",
      "step: 80 | loss: 0.0102006681263\n",
      "step: 90 | loss: 0.0100671062246\n",
      "step: 100 | loss: 0.00993581768125\n"
     ]
    }
   ],
   "source": [
    "for step in range(100):\n",
    "    \n",
    "    y_pred = model(train_img_set)\n",
    "    loss = loss_function(y_pred, train_label_set)\n",
    "    \n",
    "    optimizer.zero_grad()\n",
    "    loss.backward()\n",
    "    optimizer.step()\n",
    "    \n",
    "    if (step+1)%10 == 0:\n",
    "        print('step: {} | loss: {}'.format(step+1, loss.data.item()))\n",
    "    loss_stat.append(loss.data.item())"
   ]
  },
  {
   "cell_type": "code",
   "execution_count": 17,
   "metadata": {},
   "outputs": [],
   "source": [
    "test_set = load_mnist('t10k')\n",
    "test_img_set = torch.tensor(test_set['images']).to(device, torch.float)\n",
    "test_label_set = torch.tensor(test_set['labels']).to(device, torch.long)"
   ]
  },
  {
   "cell_type": "code",
   "execution_count": 66,
   "metadata": {},
   "outputs": [
    {
     "name": "stdout",
     "output_type": "stream",
     "text": [
      "accuracy:0.9401\n"
     ]
    }
   ],
   "source": [
    "top_k = 1\n",
    "acc = 0\n",
    "test_img_set = test_img_set.view(10000,-1)\n",
    "pred = model(test_img_set)\n",
    "ss, indices = torch.sort(pred, dim=1, descending=True)\n",
    "results = indices[:,0:top_k]\n",
    "for idx, label in enumerate(test_label_set):\n",
    "    if label in results[idx]:\n",
    "        acc += 1\n",
    "print('accuracy:{}'.format(float(acc)/10000))"
   ]
  },
  {
   "cell_type": "code",
   "execution_count": 69,
   "metadata": {},
   "outputs": [],
   "source": [
    "# torch.save(model.state_dict(), './mnist_GCN4.pkl')"
   ]
  },
  {
   "cell_type": "code",
   "execution_count": 67,
   "metadata": {},
   "outputs": [
    {
     "data": {
      "image/png": "[encoded data removed]",
      "text/plain": [
       "<Figure size 432x288 with 1 Axes>"
      ]
     },
     "metadata": {
      "needs_background": "light"
     },
     "output_type": "display_data"
    }
   ],
   "source": [
    "plt.figure()\n",
    "plt.title('loss')\n",
    "plt.plot(range(1, len(loss_stat)+1), loss_stat)\n",
    "plt.show()"
   ]
  },
  {
   "cell_type": "code",
   "execution_count": null,
   "metadata": {},
   "outputs": [],
   "source": []
  }
 ],
 "metadata": {
  "kernelspec": {
   "display_name": "Python 2",
   "language": "python",
   "name": "python2"
  },
  "language_info": {
   "codemirror_mode": {
    "name": "ipython",
    "version": 2
   },
   "file_extension": ".py",
   "mimetype": "text/x-python",
   "name": "python",
   "nbconvert_exporter": "python",
   "pygments_lexer": "ipython2",
   "version": "2.7.15rc1"
  }
 },
 "nbformat": 4,
 "nbformat_minor": 2
}
