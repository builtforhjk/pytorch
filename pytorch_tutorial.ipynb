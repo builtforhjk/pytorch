{
 "cells": [
  {
   "cell_type": "code",
   "execution_count": 1,
   "metadata": {},
   "outputs": [],
   "source": [
    "import torch\n",
    "import torchvision.transforms as transforms\n",
    "from torch.autograd import Variable\n",
    "import torch.nn as nn\n",
    "import torch.nn.functional as F\n",
    "import torch.optim as optim\n",
    "import matplotlib.pyplot as plt\n",
    "import PIL.Image as Image"
   ]
  },
  {
   "cell_type": "markdown",
   "metadata": {},
   "source": [
    "### vs numpy"
   ]
  },
  {
   "cell_type": "code",
   "execution_count": 2,
   "metadata": {},
   "outputs": [
    {
     "name": "stdout",
     "output_type": "stream",
     "text": [
      "tensor([[1., 0., 0., 0.],\n",
      "        [0., 1., 0., 0.],\n",
      "        [0., 0., 1., 0.],\n",
      "        [0., 0., 0., 1.]])\n",
      "tensor([[0., 0., 0., 0.],\n",
      "        [0., 0., 0., 0.],\n",
      "        [0., 0., 0., 0.],\n",
      "        [0., 0., 0., 0.]])\n",
      "tensor([[1., 1., 1., 1.],\n",
      "        [1., 1., 1., 1.],\n",
      "        [1., 1., 1., 1.],\n",
      "        [1., 1., 1., 1.]])\n",
      "tensor([1, 2, 3, 4])\n"
     ]
    }
   ],
   "source": [
    "#创建基础张量\n",
    "tensor_eye = torch.eye(4)\n",
    "tensor_zeros = torch.zeros(4,4)\n",
    "tensor_ones = torch.ones(4,4)\n",
    "tensor_define = torch.tensor([1,2,3,4])\n",
    "print tensor_eye\n",
    "print tensor_zeros\n",
    "print tensor_ones\n",
    "print tensor_define"
   ]
  },
  {
   "cell_type": "code",
   "execution_count": 3,
   "metadata": {},
   "outputs": [
    {
     "name": "stdout",
     "output_type": "stream",
     "text": [
      "tensor([ 1.,  2.,  3.,  4.,  5.,  6.,  7.,  8.,  9., 10.])\n",
      "tensor([1, 2, 3, 4, 5, 6, 7, 8, 9])\n",
      "tensor([ 1.0000,  1.2915,  1.6681,  2.1544,  2.7826,  3.5938,  4.6416,  5.9948,\n",
      "         7.7426, 10.0000])\n"
     ]
    }
   ],
   "source": [
    "# 规则式创建张量\n",
    "tensor_linear = torch.linspace(1,10,10)\n",
    "tensor_arange = torch.arange(1,10,1)\n",
    "tensor_log = torch.logspace(0,1,10)\n",
    "print tensor_linear\n",
    "print tensor_arange\n",
    "print tensor_log"
   ]
  },
  {
   "cell_type": "code",
   "execution_count": 4,
   "metadata": {},
   "outputs": [
    {
     "name": "stdout",
     "output_type": "stream",
     "text": [
      "tensor([[0.9679, 0.7034, 0.9420],\n",
      "        [0.2139, 0.0265, 0.3008],\n",
      "        [0.0775, 0.7678, 0.0030]])\n",
      "tensor([[ 3.5473e-04, -9.5802e-01, -8.0176e-01],\n",
      "        [-5.8125e-01, -1.1009e-01,  3.0039e-01],\n",
      "        [-5.2941e-01,  5.4935e-01, -1.0792e-01]])\n",
      "tensor([1, 0, 4, 2, 3])\n"
     ]
    }
   ],
   "source": [
    "# 概率分布创建张量\n",
    "tensor_uniform = torch.rand(3,3)\n",
    "tensor_normal = torch.randn(3,3)\n",
    "tensor_permutation = torch.randperm(5)\n",
    "print tensor_uniform\n",
    "print tensor_normal\n",
    "print tensor_permutation"
   ]
  },
  {
   "cell_type": "code",
   "execution_count": 5,
   "metadata": {},
   "outputs": [
    {
     "name": "stdout",
     "output_type": "stream",
     "text": [
      "tensor([[0.2939, 0.6731, 0.2775, 0.8909],\n",
      "        [0.1014, 0.8820, 0.2379, 0.5579],\n",
      "        [0.1829, 0.6923, 0.9489, 0.7484],\n",
      "        [0.7939, 0.7100, 0.8896, 0.7100]])\n",
      "tensor([[0.2939, 0.6731, 0.2775, 0.8909],\n",
      "        [0.1014, 0.8820, 0.2379, 0.5579],\n",
      "        [0.1829, 0.6923, 0.9489, 0.7484],\n",
      "        [0.7939, 0.7100, 0.8896, 0.7100],\n",
      "        [0.2939, 0.6731, 0.2775, 0.8909],\n",
      "        [0.1014, 0.8820, 0.2379, 0.5579],\n",
      "        [0.1829, 0.6923, 0.9489, 0.7484],\n",
      "        [0.7939, 0.7100, 0.8896, 0.7100]])\n"
     ]
    }
   ],
   "source": [
    "# 索引&切片\n",
    "tensor_org = torch.rand(4,4)\n",
    "#连接\n",
    "tensor_cat = torch.cat((tensor_org, tensor_org), 0)\n",
    "print tensor_org\n",
    "print tensor_cat\n",
    "#切片\n",
    "tensor_chunk = torch.chunk(tensor_cat, 2, 0)"
   ]
  },
  {
   "cell_type": "code",
   "execution_count": 6,
   "metadata": {},
   "outputs": [
    {
     "name": "stdout",
     "output_type": "stream",
     "text": [
      "tensor([[0.4472, 0.8944],\n",
      "        [0.8944, 1.7889]])\n",
      "tensor([1.5000, 3.5000])\n"
     ]
    }
   ],
   "source": [
    "# 数学计算\n",
    "# tensor_var1 = torch.eye(3)\n",
    "# tensor_var2 = torch.rand(3,3)\n",
    "# print tensor_var1\n",
    "# print tensor_var2\n",
    "# print tensor_var1 * tensor_var2\n",
    "# print torch.mul(tensor_var1, tensor_var2)\n",
    "# print torch.mm(tensor_var1, tensor_var2)\n",
    "def matrix_power(tensor, n):\n",
    "    e, v = torch.symeig(tensor, eigenvectors=True)\n",
    "    recover = v.mm(torch.diag(e).pow(n)).mm(v.t())\n",
    "    return recover\n",
    "tensor_c1 = torch.Tensor([[1,2],[3,4]])\n",
    "print matrix_power(tensor_c1,0.5)\n",
    "print torch.mean(tensor_c1,dim=1)"
   ]
  },
  {
   "cell_type": "code",
   "execution_count": 7,
   "metadata": {},
   "outputs": [
    {
     "name": "stdout",
     "output_type": "stream",
     "text": [
      "torch.Size([2, 5])\n",
      "torch.Size([1, 2, 5])\n",
      "torch.Size([2, 5])\n"
     ]
    }
   ],
   "source": [
    "# 附加\n",
    "tensor_a1 = torch.arange(0,10).view(2,5)\n",
    "tensor_a2 = tensor_a1.unsqueeze(0)\n",
    "tensor_a3 = tensor_a2.squeeze(0)\n",
    "print tensor_a1.shape\n",
    "print tensor_a2.shape\n",
    "print tensor_a3.shape"
   ]
  },
  {
   "cell_type": "markdown",
   "metadata": {},
   "source": [
    "### 计算图建立以及自动求导\n"
   ]
  },
  {
   "cell_type": "code",
   "execution_count": 8,
   "metadata": {},
   "outputs": [
    {
     "name": "stdout",
     "output_type": "stream",
     "text": [
      "True\n",
      "tensor([[0.5739, 0.3104, 0.4554, 0.7398, 0.9667],\n",
      "        [0.9429, 0.3815, 0.6419, 0.1077, 0.2237],\n",
      "        [0.5229, 0.7855, 0.7636, 0.7242, 0.1636],\n",
      "        [0.5513, 0.1343, 0.4048, 0.2944, 0.9094],\n",
      "        [0.9268, 0.3658, 0.2412, 0.5621, 0.9729]])\n",
      "13.666639328\n",
      "tensor([[1., 1., 1., 1., 1.],\n",
      "        [1., 1., 1., 1., 1.],\n",
      "        [1., 1., 1., 1., 1.],\n",
      "        [1., 1., 1., 1., 1.],\n",
      "        [1., 1., 1., 1., 1.]])\n"
     ]
    }
   ],
   "source": [
    "# z = x * y 标量\n",
    "# x = Variable(torch.FloatTensor([5]), requires_grad=True)\n",
    "# y = Variable(torch.FloatTensor([1.7]), requires_grad=True)\n",
    "# z = x * y\n",
    "# z.backward()\n",
    "# print z.data\n",
    "# print x.grad.data\n",
    "# print y.grad.data\n",
    "\n",
    "# y = sigmoid(x)\n",
    "# x = Variable(torch.FloatTensor([1.0]), requires_grad=True)\n",
    "# y = x.sigmoid()\n",
    "# y.backward()\n",
    "# print y.data.item()\n",
    "# print x.grad.data.item()\n",
    "\n",
    "# y = sum(x)\n",
    "x = torch.rand(5,5).type(torch.float).requires_grad_()\n",
    "print x.requires_grad\n",
    "y = x.sum()\n",
    "print x.data\n",
    "y.backward()\n",
    "print y.data.item()\n",
    "print x.grad.data"
   ]
  },
  {
   "cell_type": "markdown",
   "metadata": {},
   "source": [
    "### 两层网络构建\n",
    "$$\n",
    "h = {W_1}x\\\\\n",
    "s = {ReLU}(h)\\\\\n",
    "p = {W_2}s\\\\\n",
    "loss = ||y-p||_2  \n",
    "$$"
   ]
  },
  {
   "cell_type": "code",
   "execution_count": 9,
   "metadata": {},
   "outputs": [
    {
     "name": "stdout",
     "output_type": "stream",
     "text": [
      "epoch 1 loss: 629618.375\n",
      "epoch 2 loss: 456336.125\n",
      "epoch 3 loss: 337102.9375\n",
      "epoch 4 loss: 253596.53125\n",
      "epoch 5 loss: 194670.703125\n",
      "epoch 6 loss: 150347.609375\n",
      "epoch 7 loss: 116616.25\n",
      "epoch 8 loss: 91148.0625\n",
      "epoch 9 loss: 71532.125\n",
      "epoch 10 loss: 56251.6914062\n",
      "epoch 11 loss: 44309.9375\n",
      "epoch 12 loss: 35074.8085938\n",
      "epoch 13 loss: 27831.4804688\n",
      "epoch 14 loss: 22115.5722656\n",
      "epoch 15 loss: 17601.8769531\n",
      "epoch 16 loss: 14028.8945312\n",
      "epoch 17 loss: 11198.5283203\n",
      "epoch 18 loss: 8970.61035156\n",
      "epoch 19 loss: 7215.08203125\n",
      "epoch 20 loss: 5828.01416016\n",
      "epoch 21 loss: 4712.05810547\n",
      "epoch 22 loss: 3813.4152832\n",
      "epoch 23 loss: 3089.10522461\n",
      "epoch 24 loss: 2504.77832031\n",
      "epoch 25 loss: 2032.94873047\n",
      "epoch 26 loss: 1651.59509277\n",
      "epoch 27 loss: 1343.09460449\n",
      "epoch 28 loss: 1093.27783203\n",
      "epoch 29 loss: 890.790771484\n",
      "epoch 30 loss: 726.513305664\n",
      "epoch 31 loss: 593.104248047\n",
      "epoch 32 loss: 484.65423584\n",
      "epoch 33 loss: 396.40737915\n",
      "epoch 34 loss: 324.536437988\n",
      "epoch 35 loss: 265.938354492\n",
      "epoch 36 loss: 218.121398926\n",
      "epoch 37 loss: 179.060440063\n",
      "epoch 38 loss: 147.124542236\n",
      "epoch 39 loss: 120.987762451\n",
      "epoch 40 loss: 99.578704834\n",
      "epoch 41 loss: 82.024772644\n",
      "epoch 42 loss: 67.619102478\n",
      "epoch 43 loss: 55.7868080139\n",
      "epoch 44 loss: 46.060295105\n",
      "epoch 45 loss: 38.0574302673\n",
      "epoch 46 loss: 31.4676895142\n",
      "epoch 47 loss: 26.0366611481\n",
      "epoch 48 loss: 21.5574016571\n",
      "epoch 49 loss: 17.860660553\n",
      "epoch 50 loss: 14.8069295883\n",
      "epoch 51 loss: 12.2821083069\n",
      "epoch 52 loss: 10.1942520142\n",
      "epoch 53 loss: 8.46632385254\n",
      "epoch 54 loss: 7.03479862213\n",
      "epoch 55 loss: 5.84829759598\n",
      "epoch 56 loss: 4.86433649063\n",
      "epoch 57 loss: 4.04796934128\n",
      "epoch 58 loss: 3.37002372742\n",
      "epoch 59 loss: 2.80688428879\n",
      "epoch 60 loss: 2.3388979435\n",
      "epoch 61 loss: 1.94978499413\n",
      "epoch 62 loss: 1.62589323521\n",
      "epoch 63 loss: 1.35639643669\n",
      "epoch 64 loss: 1.13200330734\n",
      "epoch 65 loss: 0.945045351982\n",
      "epoch 66 loss: 0.789239525795\n",
      "epoch 67 loss: 0.659233808517\n",
      "epoch 68 loss: 0.550873935223\n",
      "epoch 69 loss: 0.460427165031\n",
      "epoch 70 loss: 0.384982734919\n",
      "epoch 71 loss: 0.321961730719\n",
      "epoch 72 loss: 0.269305408001\n",
      "epoch 73 loss: 0.225342661142\n",
      "epoch 74 loss: 0.188615977764\n",
      "epoch 75 loss: 0.157871574163\n",
      "epoch 76 loss: 0.132188603282\n",
      "epoch 77 loss: 0.11069445312\n",
      "epoch 78 loss: 0.092725135386\n",
      "epoch 79 loss: 0.0776779726148\n",
      "epoch 80 loss: 0.0651023387909\n",
      "epoch 81 loss: 0.0545584484935\n",
      "epoch 82 loss: 0.0457267947495\n",
      "epoch 83 loss: 0.0383206568658\n",
      "epoch 84 loss: 0.0321412459016\n",
      "epoch 85 loss: 0.0269454326481\n",
      "epoch 86 loss: 0.0226092301309\n",
      "epoch 87 loss: 0.0189669579268\n",
      "epoch 88 loss: 0.0159074105322\n",
      "epoch 89 loss: 0.0133556742221\n",
      "epoch 90 loss: 0.0112043265253\n",
      "epoch 91 loss: 0.009401505813\n",
      "epoch 92 loss: 0.00789882708341\n",
      "epoch 93 loss: 0.00663486914709\n",
      "epoch 94 loss: 0.00557120516896\n",
      "epoch 95 loss: 0.00467710196972\n",
      "epoch 96 loss: 0.00392842292786\n",
      "epoch 97 loss: 0.00330209871754\n",
      "epoch 98 loss: 0.00277658854611\n",
      "epoch 99 loss: 0.00233022286557\n",
      "epoch 100 loss: 0.00196273997426\n"
     ]
    }
   ],
   "source": [
    "dtype = torch.FloatTensor\n",
    "\n",
    "x = Variable(torch.randn(784,1).type(dtype), requires_grad=False)\n",
    "y = Variable(torch.randn(10,1).type(dtype), requires_grad=False)\n",
    "\n",
    "w1 = Variable(torch.randn(100,784).type(dtype), requires_grad=True)\n",
    "w2 = Variable(torch.randn(10,100).type(dtype), requires_grad=True)\n",
    "\n",
    "learning_rate = 1e-6\n",
    "\n",
    "for epoch in xrange(100):\n",
    "    y_pred = w2.mm(w1.mm(x).clamp(min=10))\n",
    "    loss = (y_pred - y).pow(2).sum()\n",
    "    print 'epoch {} loss: {}'.format(epoch+1, loss.data)\n",
    "    loss.backward()\n",
    "    w1.data -= learning_rate * w1.grad.data\n",
    "    w2.data -= learning_rate * w2.grad.data\n",
    "    \n",
    "    w1.grad.data.zero_()\n",
    "    w2.grad.data.zero_()"
   ]
  },
  {
   "cell_type": "markdown",
   "metadata": {},
   "source": [
    "### 回归"
   ]
  },
  {
   "cell_type": "code",
   "execution_count": 10,
   "metadata": {},
   "outputs": [],
   "source": [
    "# 产生假数据\n",
    "x = torch.linspace(-1,1,120).reshape(120,1)\n",
    "# x = Variable(x, requires_grad=False)\n",
    "y = x.pow(4) + 0.1 * torch.randn(x.size())\n",
    "# y = Variable(x, requires_grad=False)"
   ]
  },
  {
   "cell_type": "code",
   "execution_count": 11,
   "metadata": {},
   "outputs": [],
   "source": [
    "class LRNet(nn.Module):\n",
    "    '''\n",
    "    两层全连接网络，激励函数ReLU\n",
    "    '''\n",
    "    def __init__(self, n_feature, n_hidden, n_output):\n",
    "        super(LRNet,self).__init__()\n",
    "        self.layer1 = nn.Linear(n_feature, n_hidden)\n",
    "        self.layer2 = nn.Linear(n_hidden, n_output)\n",
    "    \n",
    "    def forward(self,x):\n",
    "        # 隐藏层输出\n",
    "        h = self.layer1(x)\n",
    "        # ReLU激励\n",
    "        a = F.relu(h)\n",
    "        # 输出层输出\n",
    "        y = self.layer2(a)\n",
    "        return y"
   ]
  },
  {
   "cell_type": "code",
   "execution_count": 12,
   "metadata": {},
   "outputs": [
    {
     "name": "stdout",
     "output_type": "stream",
     "text": [
      "LRNet(\n",
      "  (layer1): Linear(in_features=1, out_features=10, bias=True)\n",
      "  (layer2): Linear(in_features=10, out_features=1, bias=True)\n",
      ")\n"
     ]
    }
   ],
   "source": [
    "net = LRNet(n_feature=1, n_hidden=10, n_output=1)\n",
    "print net"
   ]
  },
  {
   "cell_type": "code",
   "execution_count": 13,
   "metadata": {},
   "outputs": [
    {
     "data": {
      "image/png": "[encoded data removed]",
      "text/plain": [
       "<Figure size 432x288 with 6 Axes>"
      ]
     },
     "metadata": {
      "needs_background": "light"
     },
     "output_type": "display_data"
    }
   ],
   "source": [
    "# SGD(随机梯度下降)优化， 学习率0.2\n",
    "optimizer = optim.SGD(net.parameters(), lr=0.2)\n",
    "loss_function = nn.MSELoss()\n",
    "\n",
    "for epoch in xrange(100):\n",
    "    y_pred = net(x)\n",
    "    \n",
    "    # 绘图\n",
    "    if epoch % 20 == 0:\n",
    "        plt.subplot(2,3,epoch/20+1)\n",
    "        plt.scatter(x.data.numpy(),y.data.numpy(),color='black',marker='+')\n",
    "        plt.plot(x.data.numpy(),y_pred.data.numpy(), color='red', lw=2)\n",
    "        \n",
    "        \n",
    "    loss = loss_function(y_pred, y)\n",
    "    \n",
    "    # 更新参数\n",
    "    optimizer.zero_grad()\n",
    "    loss.backward()\n",
    "    optimizer.step()\n",
    "\n",
    "y_pred = net(x)\n",
    "plt.subplot(2,3,6)\n",
    "plt.scatter(x.data.numpy(),y.data.numpy(),color='black',marker='+')\n",
    "plt.plot(x.data.numpy(),y_pred.data.numpy(), color='red', lw=2)\n",
    "plt.show()        "
   ]
  }
 ],
 "metadata": {
  "kernelspec": {
   "display_name": "Python 2",
   "language": "python",
   "name": "python2"
  },
  "language_info": {
   "codemirror_mode": {
    "name": "ipython",
    "version": 2
   },
   "file_extension": ".py",
   "mimetype": "text/x-python",
   "name": "python",
   "nbconvert_exporter": "python",
   "pygments_lexer": "ipython2",
   "version": "2.7.15rc1"
  }
 },
 "nbformat": 4,
 "nbformat_minor": 2
}
